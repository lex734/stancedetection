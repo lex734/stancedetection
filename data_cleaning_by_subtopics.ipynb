{
 "cells": [
  {
   "cell_type": "code",
   "execution_count": 1,
   "id": "44a26ff9",
   "metadata": {},
   "outputs": [],
   "source": [
    "import pandas as pd\n",
    "import numpy as np"
   ]
  },
  {
   "cell_type": "code",
   "execution_count": 2,
   "id": "b18fb90e",
   "metadata": {},
   "outputs": [],
   "source": [
    "df = pd.read_csv('/Users/13632/Downloads/dataset_stance.csv')"
   ]
  },
  {
   "cell_type": "code",
   "execution_count": 3,
   "id": "959c4e78",
   "metadata": {},
   "outputs": [
    {
     "name": "stdout",
     "output_type": "stream",
     "text": [
      "      Unnamed: 0                                              Tweet  \\\n",
      "0              0  tedcruz and   handovertheserver she wiped clea...   \n",
      "1              1  hillary is our best choice if we truly want to...   \n",
      "2              2  theview i think our country is ready for a fem...   \n",
      "3              3  i just gave an unhealthy amount of my hard ear...   \n",
      "4              4  portiaaboulger thank you for adding me to your...   \n",
      "...          ...                                                ...   \n",
      "4865        1951  realdonaldtrump we all want you as the next pr...   \n",
      "4866        1952  rsherman 25 join twitter trump brigade  onetho...   \n",
      "4867        1953  joeybats19 join twitter trump brigade  onethou...   \n",
      "4868        1954  trump s outlandish statements is political str...   \n",
      "4869        1955  rmconservative  dagnyred  p c  is out of contr...   \n",
      "\n",
      "               Target   Stance  \\\n",
      "0     Hillary Clinton  AGAINST   \n",
      "1     Hillary Clinton    FAVOR   \n",
      "2     Hillary Clinton  AGAINST   \n",
      "3     Hillary Clinton  AGAINST   \n",
      "4     Hillary Clinton     NONE   \n",
      "...               ...      ...   \n",
      "4865     Donald Trump    FAVOR   \n",
      "4866     Donald Trump    FAVOR   \n",
      "4867     Donald Trump    FAVOR   \n",
      "4868     Donald Trump  AGAINST   \n",
      "4869     Donald Trump     NONE   \n",
      "\n",
      "                                        Opinion Towards Sentiment  \n",
      "0     1.  The tweet explicitly expresses opinion abo...       neg  \n",
      "1     1.  The tweet explicitly expresses opinion abo...       pos  \n",
      "2     1.  The tweet explicitly expresses opinion abo...       neg  \n",
      "3     1.  The tweet explicitly expresses opinion abo...       neg  \n",
      "4     3.  The tweet is not explicitly expressing opi...       pos  \n",
      "...                                                 ...       ...  \n",
      "4865  1.  The tweet explicitly expresses opinion abo...       pos  \n",
      "4866  1.  The tweet explicitly expresses opinion abo...       pos  \n",
      "4867  1.  The tweet explicitly expresses opinion abo...       pos  \n",
      "4868  1.  The tweet explicitly expresses opinion abo...       neg  \n",
      "4869  2. The tweet does NOT expresses opinion about ...       neg  \n",
      "\n",
      "[4870 rows x 6 columns]\n"
     ]
    }
   ],
   "source": [
    "df['Tweet'] = df['Tweet'].str.lower().str.replace('[^a-zA-Z0-9]',' ', regex=True).str.strip()\n",
    "#change to lowercase and remove alphanumeric and punctuation"
   ]
  },
  {
   "cell_type": "code",
   "execution_count": 4,
   "id": "03bbd011",
   "metadata": {},
   "outputs": [],
   "source": [
    "grouped_df = df.groupby(['Target'])"
   ]
  },
  {
   "cell_type": "code",
   "execution_count": 5,
   "id": "b8c02a11",
   "metadata": {},
   "outputs": [
    {
     "data": {
      "text/plain": [
       "Target\n",
       "Atheism                                                      [Atheism]\n",
       "Climate Change is a Real Concern    [Climate Change is a Real Concern]\n",
       "Donald Trump                                            [Donald Trump]\n",
       "Feminist Movement                                  [Feminist Movement]\n",
       "Hillary Clinton                                      [Hillary Clinton]\n",
       "Legalization of Abortion                    [Legalization of Abortion]\n",
       "Name: Target, dtype: object"
      ]
     },
     "execution_count": 5,
     "metadata": {},
     "output_type": "execute_result"
    }
   ],
   "source": [
    "grouped_df['Target'].unique()"
   ]
  },
  {
   "cell_type": "code",
   "execution_count": 6,
   "id": "992caf2e",
   "metadata": {},
   "outputs": [],
   "source": [
    "df_atheism = grouped_df.get_group('Atheism')\n",
    "df_climate = grouped_df.get_group('Climate Change is a Real Concern')\n",
    "df_trump = grouped_df.get_group('Donald Trump')\n",
    "df_feminist = grouped_df.get_group('Feminist Movement')\n",
    "df_clinton = grouped_df.get_group('Hillary Clinton')\n",
    "df_abortion = grouped_df.get_group('Legalization of Abortion')"
   ]
  },
  {
   "cell_type": "code",
   "execution_count": 7,
   "id": "103551b0",
   "metadata": {},
   "outputs": [],
   "source": [
    "from nltk.corpus import stopwords\n",
    "from nltk.tokenize import word_tokenize\n",
    "stop_words = set(stopwords.words('english'))"
   ]
  },
  {
   "cell_type": "code",
   "execution_count": 47,
   "id": "39818208",
   "metadata": {},
   "outputs": [
    {
     "data": {
      "text/plain": [
       "'dear lord thank u for all of ur blessings forgive my sins lord give me strength and energy for this busy day ahead  blessed  hope  semst'"
      ]
     },
     "execution_count": 47,
     "metadata": {},
     "output_type": "execute_result"
    }
   ],
   "source": [
    "df_atheism['Tweet'][100]"
   ]
  },
  {
   "cell_type": "code",
   "execution_count": 60,
   "id": "9ab7a4d4",
   "metadata": {},
   "outputs": [
    {
     "name": "stdout",
     "output_type": "stream",
     "text": [
      "Defaulting to user installation because normal site-packages is not writeable\n",
      "Requirement already satisfied: nltk in c:\\programdata\\anaconda3\\lib\\site-packages (3.7)\n",
      "Could not fetch URL https://pypi.org/simple/nltk/: There was a problem confirming the ssl certificate: HTTPSConnectionPool(host='pypi.org', port=443): Max retries exceeded with url: /simple/nltk/ (Caused by SSLError(SSLCertVerificationError(1, '[SSL: CERTIFICATE_VERIFY_FAILED] certificate verify failed: unable to get local issuer certificate (_ssl.c:1129)'))) - skipping\n",
      "Requirement already satisfied: regex>=2021.8.3 in c:\\programdata\\anaconda3\\lib\\site-packages (from nltk) (2022.7.9)\n",
      "Requirement already satisfied: joblib in c:\\programdata\\anaconda3\\lib\\site-packages (from nltk) (1.1.0)\n",
      "Requirement already satisfied: tqdm in c:\\programdata\\anaconda3\\lib\\site-packages (from nltk) (4.64.1)\n",
      "Requirement already satisfied: click in c:\\programdata\\anaconda3\\lib\\site-packages (from nltk) (8.0.4)\n",
      "Requirement already satisfied: colorama in c:\\programdata\\anaconda3\\lib\\site-packages (from click->nltk) (0.4.5)\n",
      "Note: you may need to restart the kernel to use updated packages.\n"
     ]
    },
    {
     "name": "stderr",
     "output_type": "stream",
     "text": [
      "WARNING: Retrying (Retry(total=4, connect=None, read=None, redirect=None, status=None)) after connection broken by 'SSLError(SSLCertVerificationError(1, '[SSL: CERTIFICATE_VERIFY_FAILED] certificate verify failed: unable to get local issuer certificate (_ssl.c:1129)'))': /simple/nltk/\n",
      "WARNING: Retrying (Retry(total=3, connect=None, read=None, redirect=None, status=None)) after connection broken by 'SSLError(SSLCertVerificationError(1, '[SSL: CERTIFICATE_VERIFY_FAILED] certificate verify failed: unable to get local issuer certificate (_ssl.c:1129)'))': /simple/nltk/\n",
      "WARNING: Retrying (Retry(total=2, connect=None, read=None, redirect=None, status=None)) after connection broken by 'SSLError(SSLCertVerificationError(1, '[SSL: CERTIFICATE_VERIFY_FAILED] certificate verify failed: unable to get local issuer certificate (_ssl.c:1129)'))': /simple/nltk/\n",
      "WARNING: Retrying (Retry(total=1, connect=None, read=None, redirect=None, status=None)) after connection broken by 'SSLError(SSLCertVerificationError(1, '[SSL: CERTIFICATE_VERIFY_FAILED] certificate verify failed: unable to get local issuer certificate (_ssl.c:1129)'))': /simple/nltk/\n",
      "WARNING: Retrying (Retry(total=0, connect=None, read=None, redirect=None, status=None)) after connection broken by 'SSLError(SSLCertVerificationError(1, '[SSL: CERTIFICATE_VERIFY_FAILED] certificate verify failed: unable to get local issuer certificate (_ssl.c:1129)'))': /simple/nltk/\n"
     ]
    }
   ],
   "source": [
    "pip install nltk --upgrade"
   ]
  },
  {
   "cell_type": "code",
   "execution_count": 61,
   "id": "51be925c",
   "metadata": {},
   "outputs": [
    {
     "name": "stderr",
     "output_type": "stream",
     "text": [
      "[nltk_data] Downloading package punkt to\n",
      "[nltk_data]     C:\\Users\\13632\\AppData\\Roaming\\nltk_data...\n",
      "[nltk_data]   Unzipping tokenizers\\punkt.zip.\n"
     ]
    },
    {
     "data": {
      "text/plain": [
       "True"
      ]
     },
     "execution_count": 61,
     "metadata": {},
     "output_type": "execute_result"
    }
   ],
   "source": [
    "import nltk\n",
    "nltk.download('punkt')"
   ]
  },
  {
   "cell_type": "code",
   "execution_count": 69,
   "id": "6a4a1c19",
   "metadata": {},
   "outputs": [],
   "source": [
    "def token(df): #function removes all stopwords and converts all words into a list\n",
    "    df = df.reset_index()\n",
    "    for_words = []\n",
    "    against_words = []\n",
    "    neutral_words = []\n",
    "    for i in range(len(df)):\n",
    "        word_tokens = word_tokenize(df['Tweet'][i])\n",
    "        if df['Stance'][i] == 'FAVOR': \n",
    "            for w in word_tokens:\n",
    "                if w not in stop_words:\n",
    "                    for_words.append(w)\n",
    "        elif df['Stance'][i] == 'AGAINST':\n",
    "            for w in word_tokens:\n",
    "                if w not in stop_words:\n",
    "                    against_words.append(w)\n",
    "        else:\n",
    "            for w in word_tokens:\n",
    "                if w not in stop_words:\n",
    "                    neutral_words.append(w)\n",
    "    return for_words, against_words, neutral_words"
   ]
  },
  {
   "cell_type": "code",
   "execution_count": 146,
   "id": "7bca0650",
   "metadata": {},
   "outputs": [],
   "source": [
    "def word_counter(df):#produces a dictionary where key is the unique word and value is the frequency of each unique word\n",
    "    unique_tally = {}\n",
    "    for i in range(len(df)):\n",
    "        if df[i] not in unique_tally:\n",
    "            unique_tally[df[i]] = 1\n",
    "        else:\n",
    "            unique_tally[df[i]] += 1\n",
    "    return unique_tally"
   ]
  },
  {
   "cell_type": "code",
   "execution_count": 147,
   "id": "639d2d74",
   "metadata": {},
   "outputs": [],
   "source": [
    "for_atheism, against_atheism, neutral_atheism = token(df_atheism)\n",
    "for_climate, against_climate, neutral_climate = token(df_climate)\n",
    "for_trump, against_trump, neutral_trump = token(df_trump)\n",
    "for_feminist, against_feminist, neutral_feminist = token(df_feminist)\n",
    "for_clinton, against_clinton, neutral_clinton = token(df_clinton)\n",
    "for_abortion, against_abortion, neutral_abortion = token(df_abortion)"
   ]
  },
  {
   "cell_type": "code",
   "execution_count": 148,
   "id": "4de24921",
   "metadata": {},
   "outputs": [],
   "source": [
    "for_atheism_tally = word_counter(for_atheism)\n",
    "against_atheism_tally = word_counter(against_atheism)\n",
    "neutral_atheism_tally = word_counter(neutral_atheism)\n",
    "for_climate_tally = word_counter(for_climate)\n",
    "against_climate_tally = word_counter(against_climate)\n",
    "neutral_climate_tally = word_counter(neutral_climate)\n",
    "for_trump_tally = word_counter(for_trump)\n",
    "against_trump_tally = word_counter(against_trump)\n",
    "neutral_trump_tally = word_counter(neutral_trump)\n",
    "for_feminist_tally = word_counter(for_feminist)\n",
    "against_feminist_tally = word_counter(against_feminist)\n",
    "neutral_feminist_tally = word_counter(neutral_feminist)\n",
    "for_clinton_tally = word_counter(for_clinton)\n",
    "against_clinton_tally = word_counter(against_clinton)\n",
    "neutral_clinton_tally = word_counter(neutral_clinton)\n",
    "for_abortion_tally = word_counter(for_abortion)\n",
    "against_abortion_tally = word_counter(against_abortion)\n",
    "neutral_abortion_tally = word_counter(neutral_abortion)"
   ]
  },
  {
   "cell_type": "code",
   "execution_count": 149,
   "id": "e1046377",
   "metadata": {},
   "outputs": [],
   "source": [
    "from heapq import nlargest"
   ]
  },
  {
   "cell_type": "code",
   "execution_count": 151,
   "id": "fe7912a9",
   "metadata": {},
   "outputs": [],
   "source": [
    "def n_top_pairs(df, n): #customise the number of words with greatest frequency\n",
    "    top_pairs = dict(sorted(df.items(), key = lambda x: x[1], reverse = True)[:n])\n",
    "    return top_pairs"
   ]
  },
  {
   "cell_type": "code",
   "execution_count": 152,
   "id": "a412c219",
   "metadata": {
    "scrolled": true
   },
   "outputs": [],
   "source": [
    "top_ten_atheism = n_top_pairs(for_atheism_tally, 10)"
   ]
  },
  {
   "cell_type": "code",
   "execution_count": 154,
   "id": "20af0d89",
   "metadata": {},
   "outputs": [],
   "source": [
    "import matplotlib.pyplot as plt"
   ]
  },
  {
   "cell_type": "code",
   "execution_count": 165,
   "id": "11fb7aaa",
   "metadata": {},
   "outputs": [
    {
     "data": {
      "text/plain": [
       "Text(0, 0.5, 'Frequency')"
      ]
     },
     "execution_count": 165,
     "metadata": {},
     "output_type": "execute_result"
    },
    {
     "data": {
      "image/png": "[encoded data removed]",
      "text/plain": [
       "<Figure size 640x480 with 1 Axes>"
      ]
     },
     "metadata": {},
     "output_type": "display_data"
    }
   ],
   "source": [
    "plt.bar(top_ten_atheism.keys(), top_ten_atheism.values())\n",
    "plt.tick_params(axis='x', which='major', labelsize=7)\n",
    "plt.title(\"Top 10 words used in tweets in favor of atheism\")\n",
    "plt.xlabel(\"Words\")\n",
    "plt.ylabel('Frequency')"
   ]
  },
  {
   "cell_type": "code",
   "execution_count": 1,
   "id": "7ef07d6a",
   "metadata": {},
   "outputs": [],
   "source": [
    "#START TF-IDF\n",
    "#convert column of tweets to list\n",
    "def listing(df):\n",
    "    for_tweets = []\n",
    "    against_tweets = []\n",
    "    neutral_tweets = []\n",
    "    for i in range(len(df)):\n",
    "        if df['Stance'][i] == 'FAVOR':\n",
    "            for_tweets.append(df['Tweet'][i])\n",
    "        elif df['Stance'][i] == 'AGAINST':\n",
    "            against_tweets.append(df['Tweet'][i])\n",
    "        else:\n",
    "            neutral_tweets.append(df['Tweet'][i])\n",
    "    return for_tweets, against_tweets, neutral_tweets"
   ]
  },
  {
   "cell_type": "code",
   "execution_count": null,
   "id": "39e7e5cf",
   "metadata": {},
   "outputs": [],
   "source": []
  }
 ],
 "metadata": {
  "kernelspec": {
   "display_name": "Python 3 (ipykernel)",
   "language": "python",
   "name": "python3"
  },
  "language_info": {
   "codemirror_mode": {
    "name": "ipython",
    "version": 3
   },
   "file_extension": ".py",
   "mimetype": "text/x-python",
   "name": "python",
   "nbconvert_exporter": "python",
   "pygments_lexer": "ipython3",
   "version": "3.9.13"
  }
 },
 "nbformat": 4,
 "nbformat_minor": 5
}
