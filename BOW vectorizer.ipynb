{
 "cells": [
  {
   "cell_type": "code",
   "execution_count": 1,
   "id": "15a0558a",
   "metadata": {},
   "outputs": [],
   "source": [
    "import pandas as pd\n",
    "import numpy as np"
   ]
  },
  {
   "cell_type": "code",
   "execution_count": 2,
   "id": "91c23901",
   "metadata": {},
   "outputs": [],
   "source": [
    "df = pd.read_csv('/Users/13632/Downloads/dataset_stance.csv')"
   ]
  },
  {
   "cell_type": "code",
   "execution_count": 3,
   "id": "09e95317",
   "metadata": {},
   "outputs": [],
   "source": [
    "from sklearn.feature_extraction.text import CountVectorizer"
   ]
  },
  {
   "cell_type": "code",
   "execution_count": 7,
   "id": "cca56248",
   "metadata": {},
   "outputs": [],
   "source": [
    "#no separation based on subtopic\n",
    "df_for = []\n",
    "df_against = []\n",
    "df_neutral = []\n",
    "for k in range(len(df)):\n",
    "    if df['Stance'][k] == 'FAVOR':\n",
    "        df_for.append(str(x) for x in df['Tweet'][k]) \n",
    "    elif df['Stance'][k] == 'AGAINST':\n",
    "        df_against.append(str(x) for x in df['Tweet'][k])\n",
    "    else:\n",
    "        df_neutral.append(str(x) for x in df['Tweet'][k])"
   ]
  },
  {
   "cell_type": "code",
   "execution_count": null,
   "id": "424a99f0",
   "metadata": {},
   "outputs": [],
   "source": [
    "vectorizer = CountVectorizer(ngram_range(1,3))\n",
    "vectorizer.fit_transform()"
   ]
  }
 ],
 "metadata": {
  "spec": {
   "display_name": "Python 3 (ipykernel)",
   "language": "python",
   "name": "python3"
  },
  "language_info": {
   "codemirror_mode": {
    "name": "ipython",
    "version": 3
   },
   "file_extension": ".py",
   "mimetype": "text/x-python",
   "name": "python",
   "nbconvert_exporter": "python",
   "pygments_lexer": "ipython3",
   "version": "3.9.13"
  }
 },
 "nbformat": 4,
 "nbformat_minor": 5
}
